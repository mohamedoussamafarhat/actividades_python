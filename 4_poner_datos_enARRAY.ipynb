{
 "cells": [
  {
   "cell_type": "code",
   "execution_count": 2,
   "id": "06508aa8-d7ac-41a6-91a3-6d511215faf8",
   "metadata": {},
   "outputs": [],
   "source": [
    "import requests"
   ]
  },
  {
   "cell_type": "code",
   "execution_count": 3,
   "id": "b4a7d22e-4c8b-4d9c-8a22-5c4a51247b30",
   "metadata": {},
   "outputs": [],
   "source": [
    "a=\"https://storage.googleapis.com/christian_vladimir_sucuzhanay_bucket/pictures_videos/pic00\"+ str(1) +\".jpeg\""
   ]
  },
  {
   "cell_type": "code",
   "execution_count": 4,
   "id": "9f0288e0-9881-4eea-a826-23f8cfd25c17",
   "metadata": {},
   "outputs": [
    {
     "data": {
      "text/plain": [
       "'https://storage.googleapis.com/christian_vladimir_sucuzhanay_bucket/pictures_videos/pic001.jpeg'"
      ]
     },
     "execution_count": 4,
     "metadata": {},
     "output_type": "execute_result"
    }
   ],
   "source": [
    "a"
   ]
  },
  {
   "cell_type": "code",
   "execution_count": 13,
   "id": "71d41706-caa0-4214-8676-1f05c19170f1",
   "metadata": {},
   "outputs": [
    {
     "name": "stdout",
     "output_type": "stream",
     "text": [
      "https://storage.googleapis.com/christian_vladimir_sucuzhanay_bucket/pictures_videos/pic000.jpeg\n",
      "https://storage.googleapis.com/christian_vladimir_sucuzhanay_bucket/pictures_videos/pic001.jpeg\n",
      "https://storage.googleapis.com/christian_vladimir_sucuzhanay_bucket/pictures_videos/pic002.jpeg\n",
      "https://storage.googleapis.com/christian_vladimir_sucuzhanay_bucket/pictures_videos/pic003.jpeg\n",
      "https://storage.googleapis.com/christian_vladimir_sucuzhanay_bucket/pictures_videos/pic004.jpeg\n",
      "https://storage.googleapis.com/christian_vladimir_sucuzhanay_bucket/pictures_videos/pic005.jpeg\n",
      "https://storage.googleapis.com/christian_vladimir_sucuzhanay_bucket/pictures_videos/pic006.jpeg\n",
      "https://storage.googleapis.com/christian_vladimir_sucuzhanay_bucket/pictures_videos/pic007.jpeg\n",
      "https://storage.googleapis.com/christian_vladimir_sucuzhanay_bucket/pictures_videos/pic008.jpeg\n",
      "https://storage.googleapis.com/christian_vladimir_sucuzhanay_bucket/pictures_videos/pic009.jpeg\n"
     ]
    }
   ],
   "source": [
    "for i in range(0,10):\n",
    "    b=\"https://storage.googleapis.com/christian_vladimir_sucuzhanay_bucket/pictures_videos/pic00\"+ str(i) +\".jpeg\"\n",
    "    print(b)\n",
    "    a_url_.append(b)"
   ]
  },
  {
   "cell_type": "code",
   "execution_count": 12,
   "id": "908dd657-4622-4f90-882b-c2aaddc49273",
   "metadata": {},
   "outputs": [],
   "source": [
    "a_url_=[]"
   ]
  },
  {
   "cell_type": "code",
   "execution_count": 14,
   "id": "11b2b202-6df0-44a4-a4be-f6b22cba3fc9",
   "metadata": {},
   "outputs": [
    {
     "data": {
      "text/plain": [
       "['https://storage.googleapis.com/christian_vladimir_sucuzhanay_bucket/pictures_videos/pic000.jpeg',\n",
       " 'https://storage.googleapis.com/christian_vladimir_sucuzhanay_bucket/pictures_videos/pic001.jpeg',\n",
       " 'https://storage.googleapis.com/christian_vladimir_sucuzhanay_bucket/pictures_videos/pic002.jpeg',\n",
       " 'https://storage.googleapis.com/christian_vladimir_sucuzhanay_bucket/pictures_videos/pic003.jpeg',\n",
       " 'https://storage.googleapis.com/christian_vladimir_sucuzhanay_bucket/pictures_videos/pic004.jpeg',\n",
       " 'https://storage.googleapis.com/christian_vladimir_sucuzhanay_bucket/pictures_videos/pic005.jpeg',\n",
       " 'https://storage.googleapis.com/christian_vladimir_sucuzhanay_bucket/pictures_videos/pic006.jpeg',\n",
       " 'https://storage.googleapis.com/christian_vladimir_sucuzhanay_bucket/pictures_videos/pic007.jpeg',\n",
       " 'https://storage.googleapis.com/christian_vladimir_sucuzhanay_bucket/pictures_videos/pic008.jpeg',\n",
       " 'https://storage.googleapis.com/christian_vladimir_sucuzhanay_bucket/pictures_videos/pic009.jpeg']"
      ]
     },
     "execution_count": 14,
     "metadata": {},
     "output_type": "execute_result"
    }
   ],
   "source": [
    "a_url_"
   ]
  },
  {
   "cell_type": "code",
   "execution_count": null,
   "id": "51dd1bbd-49a5-42b4-9922-8b0cf230eb39",
   "metadata": {},
   "outputs": [],
   "source": []
  }
 ],
 "metadata": {
  "kernelspec": {
   "display_name": "Python 3",
   "language": "python",
   "name": "python3"
  },
  "language_info": {
   "codemirror_mode": {
    "name": "ipython",
    "version": 3
   },
   "file_extension": ".py",
   "mimetype": "text/x-python",
   "name": "python",
   "nbconvert_exporter": "python",
   "pygments_lexer": "ipython3",
   "version": "3.7.8"
  }
 },
 "nbformat": 4,
 "nbformat_minor": 5
}
