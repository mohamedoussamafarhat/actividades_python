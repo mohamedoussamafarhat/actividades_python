{
 "cells": [
  {
   "cell_type": "markdown",
   "id": "abdecae7-e945-41b6-a5cb-ef0725113783",
   "metadata": {},
   "source": [
    "# SECOND PYTHON PROGRAM"
   ]
  },
  {
   "cell_type": "markdown",
   "id": "4c8d8905-bbc7-45a2-9a70-d26a208e814f",
   "metadata": {},
   "source": [
    "1- Cuantos cores/cpu s tiene su equipo"
   ]
  },
  {
   "cell_type": "code",
   "execution_count": 1,
   "id": "533d1e6e-ab49-435a-be12-265a4e4ec85d",
   "metadata": {},
   "outputs": [],
   "source": [
    "import os"
   ]
  },
  {
   "cell_type": "code",
   "execution_count": 3,
   "id": "0b0fc064-fafb-435c-9428-51e8996cc6cd",
   "metadata": {},
   "outputs": [
    {
     "data": {
      "text/plain": [
       "8"
      ]
     },
     "execution_count": 3,
     "metadata": {},
     "output_type": "execute_result"
    }
   ],
   "source": [
    "os.cpu_count()"
   ]
  },
  {
   "cell_type": "markdown",
   "id": "33e0e53a-021d-473f-94cd-73f447148486",
   "metadata": {},
   "source": [
    "2-cuantos cores/cpu s fisicos tiene su equipo"
   ]
  },
  {
   "cell_type": "code",
   "execution_count": 5,
   "id": "d5245fad-d49f-4e7c-a333-1174babd0503",
   "metadata": {},
   "outputs": [
    {
     "name": "stdout",
     "output_type": "stream",
     "text": [
      "mi equipo tiene 8 fisicos\n"
     ]
    }
   ],
   "source": [
    "print(\"mi equipo tiene \"+str(os.cpu_count())+\" fisicos\")"
   ]
  },
  {
   "cell_type": "markdown",
   "id": "eb6f2951-7b22-438e-97ad-4df97606e3c5",
   "metadata": {},
   "source": [
    "3-cuantos cores/cpu`s logicos tiene su equipo?"
   ]
  },
  {
   "cell_type": "code",
   "execution_count": 7,
   "id": "bb8588cb-7a99-4cf3-a1d3-3f0b97a83fd3",
   "metadata": {},
   "outputs": [
    {
     "name": "stdout",
     "output_type": "stream",
     "text": [
      "mi equipo tiene 16 logicos\n"
     ]
    }
   ],
   "source": [
    "print(\"mi equipo tiene \"+str(os.cpu_count()*2)+ \" logicos\")"
   ]
  },
  {
   "cell_type": "markdown",
   "id": "0e8c490b-6648-4376-ac57-61e9d5896187",
   "metadata": {},
   "source": [
    "4- cree una funcion con el objeto de mantener su cpu activa al menos de 10 segundos (que no haga nada la funcion)"
   ]
  },
  {
   "cell_type": "code",
   "execution_count": 8,
   "id": "bc0feed7-e016-44d1-bddf-1ad09f74a3f8",
   "metadata": {},
   "outputs": [],
   "source": [
    "def ten():\n",
    "    while True:\n",
    "        pass"
   ]
  },
  {
   "cell_type": "code",
   "execution_count": 11,
   "id": "c437e87d-be6a-46a3-a2da-9facdcd5e74e",
   "metadata": {},
   "outputs": [
    {
     "data": {
      "text/plain": [
       "619"
      ]
     },
     "execution_count": 11,
     "metadata": {},
     "output_type": "execute_result"
    }
   ],
   "source": [
    "os.getpid()"
   ]
  },
  {
   "cell_type": "code",
   "execution_count": 14,
   "id": "d3455a81-a462-4b1b-b126-556688e10a75",
   "metadata": {},
   "outputs": [],
   "source": [
    "import platform as pl"
   ]
  },
  {
   "cell_type": "code",
   "execution_count": 13,
   "id": "7868b10e-c3c3-4678-b38f-016aa9ef4194",
   "metadata": {},
   "outputs": [],
   "source": [
    "def ten():\n",
    "    for i in range(1000):\n",
    "        pass"
   ]
  },
  {
   "cell_type": "markdown",
   "id": "2470da23-eb50-44ba-ba02-3327fa83a90a",
   "metadata": {},
   "source": [
    "5-Qué version de python tiene instalada"
   ]
  },
  {
   "cell_type": "code",
   "execution_count": 16,
   "id": "6393a2cf-0116-479d-a2e7-8113388f7c8c",
   "metadata": {},
   "outputs": [
    {
     "data": {
      "text/plain": [
       "'3.7.8'"
      ]
     },
     "execution_count": 16,
     "metadata": {},
     "output_type": "execute_result"
    }
   ],
   "source": [
    "pl.python_version()"
   ]
  },
  {
   "cell_type": "markdown",
   "id": "1a79ccb9-748d-40d1-9343-40a9e16286e0",
   "metadata": {},
   "source": [
    "6- El bus de su equipo es de 32 o 64?"
   ]
  },
  {
   "cell_type": "code",
   "execution_count": 17,
   "id": "246b4a04-fb5f-4f48-ab0c-c10912141e61",
   "metadata": {},
   "outputs": [
    {
     "data": {
      "text/plain": [
       "('64bit', '')"
      ]
     },
     "execution_count": 17,
     "metadata": {},
     "output_type": "execute_result"
    }
   ],
   "source": [
    "pl.architecture()"
   ]
  },
  {
   "cell_type": "markdown",
   "id": "d12f9e10-6ed1-45eb-856e-a66db3cf747b",
   "metadata": {},
   "source": [
    "7- Cree una funcion que imprima de 1 a 10"
   ]
  },
  {
   "cell_type": "code",
   "execution_count": 19,
   "id": "d4433da0-981a-4097-bcf0-eadfe5da9bae",
   "metadata": {},
   "outputs": [],
   "source": [
    "def to_ten():\n",
    "    for i in range(10):\n",
    "        print(i)"
   ]
  },
  {
   "cell_type": "markdown",
   "id": "4b29a605-6f35-48ee-b421-2ac253055485",
   "metadata": {},
   "source": [
    "8-Ejecte concurrentemente 20 veces la funcion antes mencionada"
   ]
  },
  {
   "cell_type": "code",
   "execution_count": 20,
   "id": "9e9d9d75-35bd-4697-91a4-10a8dc0983fd",
   "metadata": {},
   "outputs": [],
   "source": [
    "import threading as th"
   ]
  },
  {
   "cell_type": "code",
   "execution_count": 22,
   "id": "f223ccb1-bddf-40fc-b82c-46b1a01df66c",
   "metadata": {},
   "outputs": [
    {
     "name": "stdout",
     "output_type": "stream",
     "text": [
      "0\n",
      "1\n",
      "2\n",
      "3\n",
      "4\n",
      "5\n",
      "6\n",
      "7\n",
      "8\n",
      "9\n"
     ]
    }
   ],
   "source": [
    "th.Thread(target=to_ten).start()"
   ]
  },
  {
   "cell_type": "code",
   "execution_count": null,
   "id": "924ec066-04e1-4851-9f50-86d2f4098d6e",
   "metadata": {},
   "outputs": [],
   "source": [
    "9-cuantos hilos estan activos?"
   ]
  }
 ],
 "metadata": {
  "kernelspec": {
   "display_name": "Python 3",
   "language": "python",
   "name": "python3"
  },
  "language_info": {
   "codemirror_mode": {
    "name": "ipython",
    "version": 3
   },
   "file_extension": ".py",
   "mimetype": "text/x-python",
   "name": "python",
   "nbconvert_exporter": "python",
   "pygments_lexer": "ipython3",
   "version": "3.7.8"
  }
 },
 "nbformat": 4,
 "nbformat_minor": 5
}
