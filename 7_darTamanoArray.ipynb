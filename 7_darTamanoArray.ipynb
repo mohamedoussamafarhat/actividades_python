{
 "cells": [
  {
   "cell_type": "markdown",
   "id": "7ee55280-fe7b-473a-bba7-6d5a2cd27bb4",
   "metadata": {},
   "source": [
    "# dar el tamano de matriz"
   ]
  },
  {
   "cell_type": "code",
   "execution_count": 7,
   "id": "3c9b6278-80b4-4984-8d14-aefcf56194cd",
   "metadata": {},
   "outputs": [],
   "source": [
    "import random"
   ]
  },
  {
   "cell_type": "code",
   "execution_count": 8,
   "id": "e25bb582-0da2-4db7-b585-d5a1399394e4",
   "metadata": {},
   "outputs": [
    {
     "name": "stdin",
     "output_type": "stream",
     "text": [
      "ingresa el numero de fila de a 4\n",
      "ingresa el numero de columna de a 4\n",
      "ingresa el numero de filas de b 5\n",
      "ingresa el numero de columnas de b 5\n"
     ]
    }
   ],
   "source": [
    "a_f=(int(input(\"ingresa el numero de fila de a\")))\n",
    "a_c=(int(input(\"ingresa el numero de columna de a\")))\n",
    "b_f=(int(input(\"ingresa el numero de filas de b\")))\n",
    "b_c=(int(input(\"ingresa el numero de columnas de b\")))"
   ]
  },
  {
   "cell_type": "code",
   "execution_count": 9,
   "id": "465ccb9a-8244-4188-937c-c39b3b2edb4a",
   "metadata": {},
   "outputs": [],
   "source": [
    "A=[[random.randint(0,9) for i in range(a_c)]for j in range(a_f)]"
   ]
  },
  {
   "cell_type": "code",
   "execution_count": null,
   "id": "2e518c4d-6670-48b0-920d-30c5fe410067",
   "metadata": {},
   "outputs": [],
   "source": [
    "B=[[random.randint(0,9) for i in range(b_c)]for j in range()"
   ]
  }
 ],
 "metadata": {
  "kernelspec": {
   "display_name": "Python 3",
   "language": "python",
   "name": "python3"
  },
  "language_info": {
   "codemirror_mode": {
    "name": "ipython",
    "version": 3
   },
   "file_extension": ".py",
   "mimetype": "text/x-python",
   "name": "python",
   "nbconvert_exporter": "python",
   "pygments_lexer": "ipython3",
   "version": "3.7.8"
  }
 },
 "nbformat": 4,
 "nbformat_minor": 5
}
